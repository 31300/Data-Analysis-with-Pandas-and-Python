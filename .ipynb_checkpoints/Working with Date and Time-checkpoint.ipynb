{
 "cells": [
  {
   "cell_type": "code",
   "execution_count": 1,
   "metadata": {
    "collapsed": true
   },
   "outputs": [],
   "source": [
    "import pandas as pd\n",
    "import datetime as dt"
   ]
  },
  {
   "cell_type": "code",
   "execution_count": 6,
   "metadata": {
    "collapsed": true
   },
   "outputs": [],
   "source": [
    "someday = dt.date(2018,4,14)"
   ]
  },
  {
   "cell_type": "code",
   "execution_count": 7,
   "metadata": {},
   "outputs": [
    {
     "data": {
      "text/plain": [
       "14"
      ]
     },
     "execution_count": 7,
     "metadata": {},
     "output_type": "execute_result"
    }
   ],
   "source": [
    "someday.year\n",
    "someday.month\n",
    "someday.day"
   ]
  },
  {
   "cell_type": "code",
   "execution_count": 10,
   "metadata": {},
   "outputs": [
    {
     "data": {
      "text/plain": [
       "'2018-04-14 08:50:44'"
      ]
     },
     "execution_count": 10,
     "metadata": {},
     "output_type": "execute_result"
    }
   ],
   "source": [
    "str(dt.datetime(2018,4,14,8,50,44))"
   ]
  },
  {
   "cell_type": "code",
   "execution_count": 18,
   "metadata": {
    "collapsed": true
   },
   "outputs": [],
   "source": [
    "sometime =dt.datetime(2018,4,14,8,50,44)"
   ]
  },
  {
   "cell_type": "code",
   "execution_count": 25,
   "metadata": {},
   "outputs": [
    {
     "data": {
      "text/plain": [
       "50"
      ]
     },
     "execution_count": 25,
     "metadata": {},
     "output_type": "execute_result"
    }
   ],
   "source": [
    "sometime.day\n",
    "sometime.month\n",
    "sometime.year\n",
    "sometime.hour\n",
    "sometime.minute"
   ]
  },
  {
   "cell_type": "code",
   "execution_count": 29,
   "metadata": {},
   "outputs": [
    {
     "data": {
      "text/plain": [
       "Timestamp('2015-12-19 00:00:00')"
      ]
     },
     "execution_count": 29,
     "metadata": {},
     "output_type": "execute_result"
    }
   ],
   "source": [
    "pd.Timestamp('2015-1-6')\n",
    "pd.Timestamp('2015/1/6')\n",
    "pd.Timestamp('1/6/2015')\n",
    "pd.Timestamp('12/19/2015')\n",
    "pd.Timestamp('19/12/2015')\n"
   ]
  },
  {
   "cell_type": "code",
   "execution_count": 36,
   "metadata": {
    "collapsed": true
   },
   "outputs": [],
   "source": [
    "dates = ['2015-1-6','2015-5-6','2015-2-2']\n",
    "dtIndex = pd.DatetimeIndex(dates)"
   ]
  },
  {
   "cell_type": "code",
   "execution_count": 37,
   "metadata": {
    "collapsed": true
   },
   "outputs": [],
   "source": [
    "values= [100,200,400]"
   ]
  },
  {
   "cell_type": "code",
   "execution_count": 38,
   "metadata": {},
   "outputs": [
    {
     "data": {
      "text/plain": [
       "2015-01-06    100\n",
       "2015-05-06    200\n",
       "2015-02-02    400\n",
       "dtype: int64"
      ]
     },
     "execution_count": 38,
     "metadata": {},
     "output_type": "execute_result"
    }
   ],
   "source": [
    "pd.Series(data = values , index=dtIndex)"
   ]
  },
  {
   "cell_type": "code",
   "execution_count": 5,
   "metadata": {},
   "outputs": [],
   "source": [
    "times = pd.date_range(start='2016', end='2018',freq='D')"
   ]
  },
  {
   "cell_type": "code",
   "execution_count": 8,
   "metadata": {},
   "outputs": [
    {
     "data": {
      "text/plain": [
       "pandas._libs.tslib.Timestamp"
      ]
     },
     "execution_count": 8,
     "metadata": {},
     "output_type": "execute_result"
    }
   ],
   "source": [
    "type(times[0])"
   ]
  },
  {
   "cell_type": "code",
   "execution_count": 11,
   "metadata": {
    "collapsed": true
   },
   "outputs": [],
   "source": [
    "times = pd.date_range(start='2016', end='2018',freq='w')"
   ]
  },
  {
   "cell_type": "code",
   "execution_count": 12,
   "metadata": {},
   "outputs": [
    {
     "data": {
      "text/plain": [
       "DatetimeIndex(['2016-01-03', '2016-01-10', '2016-01-17', '2016-01-24',\n",
       "               '2016-01-31', '2016-02-07', '2016-02-14', '2016-02-21',\n",
       "               '2016-02-28', '2016-03-06',\n",
       "               ...\n",
       "               '2017-10-29', '2017-11-05', '2017-11-12', '2017-11-19',\n",
       "               '2017-11-26', '2017-12-03', '2017-12-10', '2017-12-17',\n",
       "               '2017-12-24', '2017-12-31'],\n",
       "              dtype='datetime64[ns]', length=105, freq='W-SUN')"
      ]
     },
     "execution_count": 12,
     "metadata": {},
     "output_type": "execute_result"
    }
   ],
   "source": [
    "times"
   ]
  },
  {
   "cell_type": "code",
   "execution_count": 13,
   "metadata": {},
   "outputs": [
    {
     "data": {
      "text/plain": [
       "DatetimeIndex(['2016-01-01', '2016-01-08', '2016-01-15', '2016-01-22',\n",
       "               '2016-01-29', '2016-02-05', '2016-02-12', '2016-02-19',\n",
       "               '2016-02-26', '2016-03-04',\n",
       "               ...\n",
       "               '2017-10-27', '2017-11-03', '2017-11-10', '2017-11-17',\n",
       "               '2017-11-24', '2017-12-01', '2017-12-08', '2017-12-15',\n",
       "               '2017-12-22', '2017-12-29'],\n",
       "              dtype='datetime64[ns]', length=105, freq='W-FRI')"
      ]
     },
     "execution_count": 13,
     "metadata": {},
     "output_type": "execute_result"
    }
   ],
   "source": [
    "pd.date_range(start='2016', end='2018',freq='w-FRI')"
   ]
  },
  {
   "cell_type": "code",
   "execution_count": 15,
   "metadata": {},
   "outputs": [
    {
     "data": {
      "text/plain": [
       "DatetimeIndex(['2016-01-01 00:00:00', '2016-01-01 05:00:00',\n",
       "               '2016-01-01 10:00:00', '2016-01-01 15:00:00',\n",
       "               '2016-01-01 20:00:00', '2016-01-02 01:00:00',\n",
       "               '2016-01-02 06:00:00', '2016-01-02 11:00:00',\n",
       "               '2016-01-02 16:00:00', '2016-01-02 21:00:00',\n",
       "               ...\n",
       "               '2017-12-29 23:00:00', '2017-12-30 04:00:00',\n",
       "               '2017-12-30 09:00:00', '2017-12-30 14:00:00',\n",
       "               '2017-12-30 19:00:00', '2017-12-31 00:00:00',\n",
       "               '2017-12-31 05:00:00', '2017-12-31 10:00:00',\n",
       "               '2017-12-31 15:00:00', '2017-12-31 20:00:00'],\n",
       "              dtype='datetime64[ns]', length=3509, freq='5H')"
      ]
     },
     "execution_count": 15,
     "metadata": {},
     "output_type": "execute_result"
    }
   ],
   "source": [
    "pd.date_range(start='2016', end='2018',freq='5H')"
   ]
  },
  {
   "cell_type": "code",
   "execution_count": 16,
   "metadata": {},
   "outputs": [
    {
     "data": {
      "text/plain": [
       "DatetimeIndex(['2016-01-31', '2016-02-29', '2016-03-31', '2016-04-30',\n",
       "               '2016-05-31', '2016-06-30', '2016-07-31', '2016-08-31',\n",
       "               '2016-09-30', '2016-10-31', '2016-11-30', '2016-12-31',\n",
       "               '2017-01-31', '2017-02-28', '2017-03-31', '2017-04-30',\n",
       "               '2017-05-31', '2017-06-30', '2017-07-31', '2017-08-31',\n",
       "               '2017-09-30', '2017-10-31', '2017-11-30', '2017-12-31'],\n",
       "              dtype='datetime64[ns]', freq='M')"
      ]
     },
     "execution_count": 16,
     "metadata": {},
     "output_type": "execute_result"
    }
   ],
   "source": [
    "pd.date_range(start='2016', end='2018',freq='M')"
   ]
  },
  {
   "cell_type": "code",
   "execution_count": 17,
   "metadata": {},
   "outputs": [
    {
     "data": {
      "text/plain": [
       "DatetimeIndex(['2016-12-31', '2017-12-31'], dtype='datetime64[ns]', freq='A-DEC')"
      ]
     },
     "execution_count": 17,
     "metadata": {},
     "output_type": "execute_result"
    }
   ],
   "source": [
    "pd.date_range(start='2016', end='2018',freq='A')"
   ]
  },
  {
   "cell_type": "code",
   "execution_count": 18,
   "metadata": {},
   "outputs": [
    {
     "data": {
      "text/plain": [
       "DatetimeIndex(['2014-01-01', '2014-01-02', '2014-01-03', '2014-01-04',\n",
       "               '2014-01-05', '2014-01-06', '2014-01-07', '2014-01-08',\n",
       "               '2014-01-09', '2014-01-10', '2014-01-11', '2014-01-12',\n",
       "               '2014-01-13', '2014-01-14', '2014-01-15', '2014-01-16',\n",
       "               '2014-01-17', '2014-01-18', '2014-01-19', '2014-01-20',\n",
       "               '2014-01-21', '2014-01-22', '2014-01-23', '2014-01-24',\n",
       "               '2014-01-25'],\n",
       "              dtype='datetime64[ns]', freq='D')"
      ]
     },
     "execution_count": 18,
     "metadata": {},
     "output_type": "execute_result"
    }
   ],
   "source": [
    "pd.date_range(start='2014', periods=25)"
   ]
  },
  {
   "cell_type": "code",
   "execution_count": 19,
   "metadata": {
    "collapsed": true
   },
   "outputs": [],
   "source": [
    "bunch_of_dates = pd.date_range(start='2000',end='2016', freq='2D')"
   ]
  },
  {
   "cell_type": "code",
   "execution_count": 21,
   "metadata": {},
   "outputs": [],
   "source": [
    "a = pd.Series(bunch_of_dates)"
   ]
  },
  {
   "cell_type": "code",
   "execution_count": 22,
   "metadata": {},
   "outputs": [
    {
     "data": {
      "text/plain": [
       "0   2000-01-01\n",
       "1   2000-01-03\n",
       "2   2000-01-05\n",
       "3   2000-01-07\n",
       "4   2000-01-09\n",
       "dtype: datetime64[ns]"
      ]
     },
     "execution_count": 22,
     "metadata": {},
     "output_type": "execute_result"
    }
   ],
   "source": [
    "a.head()"
   ]
  },
  {
   "cell_type": "code",
   "execution_count": 23,
   "metadata": {},
   "outputs": [
    {
     "data": {
      "text/plain": [
       "0        1\n",
       "1        3\n",
       "2        5\n",
       "3        7\n",
       "4        9\n",
       "5       11\n",
       "6       13\n",
       "7       15\n",
       "8       17\n",
       "9       19\n",
       "10      21\n",
       "11      23\n",
       "12      25\n",
       "13      27\n",
       "14      29\n",
       "15      31\n",
       "16       2\n",
       "17       4\n",
       "18       6\n",
       "19       8\n",
       "20      10\n",
       "21      12\n",
       "22      14\n",
       "23      16\n",
       "24      18\n",
       "25      20\n",
       "26      22\n",
       "27      24\n",
       "28      26\n",
       "29      28\n",
       "        ..\n",
       "2893     4\n",
       "2894     6\n",
       "2895     8\n",
       "2896    10\n",
       "2897    12\n",
       "2898    14\n",
       "2899    16\n",
       "2900    18\n",
       "2901    20\n",
       "2902    22\n",
       "2903    24\n",
       "2904    26\n",
       "2905    28\n",
       "2906    30\n",
       "2907     2\n",
       "2908     4\n",
       "2909     6\n",
       "2910     8\n",
       "2911    10\n",
       "2912    12\n",
       "2913    14\n",
       "2914    16\n",
       "2915    18\n",
       "2916    20\n",
       "2917    22\n",
       "2918    24\n",
       "2919    26\n",
       "2920    28\n",
       "2921    30\n",
       "2922     1\n",
       "Length: 2923, dtype: int64"
      ]
     },
     "execution_count": 23,
     "metadata": {},
     "output_type": "execute_result"
    }
   ],
   "source": [
    "a.dt.day"
   ]
  },
  {
   "cell_type": "code",
   "execution_count": 24,
   "metadata": {},
   "outputs": [
    {
     "data": {
      "text/plain": [
       "0        Saturday\n",
       "1          Monday\n",
       "2       Wednesday\n",
       "3          Friday\n",
       "4          Sunday\n",
       "5         Tuesday\n",
       "6        Thursday\n",
       "7        Saturday\n",
       "8          Monday\n",
       "9       Wednesday\n",
       "10         Friday\n",
       "11         Sunday\n",
       "12        Tuesday\n",
       "13       Thursday\n",
       "14       Saturday\n",
       "15         Monday\n",
       "16      Wednesday\n",
       "17         Friday\n",
       "18         Sunday\n",
       "19        Tuesday\n",
       "20       Thursday\n",
       "21       Saturday\n",
       "22         Monday\n",
       "23      Wednesday\n",
       "24         Friday\n",
       "25         Sunday\n",
       "26        Tuesday\n",
       "27       Thursday\n",
       "28       Saturday\n",
       "29         Monday\n",
       "          ...    \n",
       "2893    Wednesday\n",
       "2894       Friday\n",
       "2895       Sunday\n",
       "2896      Tuesday\n",
       "2897     Thursday\n",
       "2898     Saturday\n",
       "2899       Monday\n",
       "2900    Wednesday\n",
       "2901       Friday\n",
       "2902       Sunday\n",
       "2903      Tuesday\n",
       "2904     Thursday\n",
       "2905     Saturday\n",
       "2906       Monday\n",
       "2907    Wednesday\n",
       "2908       Friday\n",
       "2909       Sunday\n",
       "2910      Tuesday\n",
       "2911     Thursday\n",
       "2912     Saturday\n",
       "2913       Monday\n",
       "2914    Wednesday\n",
       "2915       Friday\n",
       "2916       Sunday\n",
       "2917      Tuesday\n",
       "2918     Thursday\n",
       "2919     Saturday\n",
       "2920       Monday\n",
       "2921    Wednesday\n",
       "2922       Friday\n",
       "Length: 2923, dtype: object"
      ]
     },
     "execution_count": 24,
     "metadata": {},
     "output_type": "execute_result"
    }
   ],
   "source": [
    "a.dt.weekday_name"
   ]
  },
  {
   "cell_type": "code",
   "execution_count": null,
   "metadata": {
    "collapsed": true
   },
   "outputs": [],
   "source": []
  },
  {
   "cell_type": "code",
   "execution_count": null,
   "metadata": {
    "collapsed": true
   },
   "outputs": [],
   "source": []
  },
  {
   "cell_type": "code",
   "execution_count": null,
   "metadata": {
    "collapsed": true
   },
   "outputs": [],
   "source": []
  },
  {
   "cell_type": "code",
   "execution_count": null,
   "metadata": {
    "collapsed": true
   },
   "outputs": [],
   "source": []
  },
  {
   "cell_type": "code",
   "execution_count": null,
   "metadata": {
    "collapsed": true
   },
   "outputs": [],
   "source": []
  },
  {
   "cell_type": "code",
   "execution_count": null,
   "metadata": {
    "collapsed": true
   },
   "outputs": [],
   "source": []
  },
  {
   "cell_type": "code",
   "execution_count": null,
   "metadata": {
    "collapsed": true
   },
   "outputs": [],
   "source": []
  }
 ],
 "metadata": {
  "kernelspec": {
   "display_name": "Python 3",
   "language": "python",
   "name": "python3"
  },
  "language_info": {
   "codemirror_mode": {
    "name": "ipython",
    "version": 3
   },
   "file_extension": ".py",
   "mimetype": "text/x-python",
   "name": "python",
   "nbconvert_exporter": "python",
   "pygments_lexer": "ipython3",
   "version": "3.6.4"
  }
 },
 "nbformat": 4,
 "nbformat_minor": 2
}
